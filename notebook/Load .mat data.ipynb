{
 "cells": [
  {
   "cell_type": "code",
   "execution_count": 1,
   "metadata": {
    "ExecuteTime": {
     "end_time": "2020-08-14T12:57:02.833466Z",
     "start_time": "2020-08-14T12:57:02.689290Z"
    }
   },
   "outputs": [],
   "source": [
    "import numpy as np"
   ]
  },
  {
   "cell_type": "code",
   "execution_count": 13,
   "metadata": {
    "ExecuteTime": {
     "end_time": "2020-08-14T13:00:34.636363Z",
     "start_time": "2020-08-14T13:00:34.621383Z"
    }
   },
   "outputs": [],
   "source": [
    "import scipy.io\n",
    "shuttle = scipy.io.loadmat('data/shuttle.mat')\n",
    "satellite = scipy.io.loadmat('data/satellite.mat')\n",
    "satimage = scipy.io.loadmat('data/satimage-2.mat')"
   ]
  },
  {
   "cell_type": "code",
   "execution_count": 22,
   "metadata": {
    "ExecuteTime": {
     "end_time": "2020-08-14T13:24:36.033431Z",
     "start_time": "2020-08-14T13:24:36.030998Z"
    }
   },
   "outputs": [],
   "source": [
    "X = shuttle['X']"
   ]
  },
  {
   "cell_type": "code",
   "execution_count": 25,
   "metadata": {
    "ExecuteTime": {
     "end_time": "2020-08-14T13:24:54.662043Z",
     "start_time": "2020-08-14T13:24:54.659668Z"
    }
   },
   "outputs": [],
   "source": [
    "y = shuttle['y'].reshape(-1)"
   ]
  },
  {
   "cell_type": "code",
   "execution_count": 16,
   "metadata": {
    "ExecuteTime": {
     "end_time": "2020-08-14T13:00:57.628789Z",
     "start_time": "2020-08-14T13:00:57.625410Z"
    }
   },
   "outputs": [
    {
     "data": {
      "text/plain": [
       "(6435, 36)"
      ]
     },
     "execution_count": 16,
     "metadata": {},
     "output_type": "execute_result"
    }
   ],
   "source": [
    "satellite['X'].shape"
   ]
  },
  {
   "cell_type": "code",
   "execution_count": 18,
   "metadata": {
    "ExecuteTime": {
     "end_time": "2020-08-14T13:01:13.774909Z",
     "start_time": "2020-08-14T13:01:13.771464Z"
    }
   },
   "outputs": [
    {
     "data": {
      "text/plain": [
       "(5803, 36)"
      ]
     },
     "execution_count": 18,
     "metadata": {},
     "output_type": "execute_result"
    }
   ],
   "source": [
    "satimage['X'].shape"
   ]
  },
  {
   "cell_type": "code",
   "execution_count": 10,
   "metadata": {
    "ExecuteTime": {
     "end_time": "2020-08-14T12:59:27.058610Z",
     "start_time": "2020-08-14T12:59:27.055352Z"
    }
   },
   "outputs": [
    {
     "data": {
      "text/plain": [
       "'satellite.mat'"
      ]
     },
     "execution_count": 10,
     "metadata": {},
     "output_type": "execute_result"
    }
   ],
   "source": [
    "'satellite.mat'"
   ]
  },
  {
   "cell_type": "code",
   "execution_count": 21,
   "metadata": {
    "ExecuteTime": {
     "end_time": "2020-08-14T13:24:26.118757Z",
     "start_time": "2020-08-14T13:24:25.736266Z"
    }
   },
   "outputs": [],
   "source": [
    "from abc import ABC, abstractmethod\n",
    "from torch.utils.data import Subset\n",
    "from torch.utils.data import DataLoader\n",
    "from torch.utils.data import ConcatDataset\n",
    "from sklearn.model_selection import train_test_split\n",
    "\n",
    "import torch\n",
    "import scipy.io\n",
    "import numpy as np"
   ]
  },
  {
   "cell_type": "code",
   "execution_count": 26,
   "metadata": {
    "ExecuteTime": {
     "end_time": "2020-08-14T13:24:56.192576Z",
     "start_time": "2020-08-14T13:24:56.167044Z"
    }
   },
   "outputs": [],
   "source": [
    "X_train, X_test, y_train, y_test = train_test_split(X, y,\n",
    "                                                            test_size=0.2,\n",
    "                                                            random_state=42,\n",
    "                                                            stratify=y)"
   ]
  },
  {
   "cell_type": "code",
   "execution_count": 33,
   "metadata": {
    "ExecuteTime": {
     "end_time": "2020-08-14T13:39:44.951504Z",
     "start_time": "2020-08-14T13:39:44.948089Z"
    }
   },
   "outputs": [
    {
     "data": {
      "text/plain": [
       "(49097, 9)"
      ]
     },
     "execution_count": 33,
     "metadata": {},
     "output_type": "execute_result"
    }
   ],
   "source": [
    "X.shape"
   ]
  },
  {
   "cell_type": "code",
   "execution_count": 36,
   "metadata": {
    "ExecuteTime": {
     "end_time": "2020-08-14T13:40:36.471665Z",
     "start_time": "2020-08-14T13:40:36.466568Z"
    }
   },
   "outputs": [
    {
     "data": {
      "text/plain": [
       "(45586, 9)"
      ]
     },
     "execution_count": 36,
     "metadata": {},
     "output_type": "execute_result"
    }
   ],
   "source": [
    "X[y == 0]"
   ]
  },
  {
   "cell_type": "code",
   "execution_count": 31,
   "metadata": {
    "ExecuteTime": {
     "end_time": "2020-08-14T13:39:35.195457Z",
     "start_time": "2020-08-14T13:39:35.191920Z"
    }
   },
   "outputs": [
    {
     "data": {
      "text/plain": [
       "array([53,  0, 82,  0, 52, -5, 29, 30,  2], dtype=int16)"
      ]
     },
     "execution_count": 31,
     "metadata": {},
     "output_type": "execute_result"
    }
   ],
   "source": [
    "X[1]"
   ]
  },
  {
   "cell_type": "code",
   "execution_count": 28,
   "metadata": {
    "ExecuteTime": {
     "end_time": "2020-08-14T13:38:23.004875Z",
     "start_time": "2020-08-14T13:38:23.001399Z"
    }
   },
   "outputs": [
    {
     "data": {
      "text/plain": [
       "array([1, 0, 0, ..., 0, 1, 0], dtype=uint8)"
      ]
     },
     "execution_count": 28,
     "metadata": {},
     "output_type": "execute_result"
    }
   ],
   "source": [
    "y"
   ]
  },
  {
   "cell_type": "code",
   "execution_count": 34,
   "metadata": {
    "ExecuteTime": {
     "end_time": "2020-08-14T13:39:49.564608Z",
     "start_time": "2020-08-14T13:39:49.561256Z"
    }
   },
   "outputs": [
    {
     "data": {
      "text/plain": [
       "(49097,)"
      ]
     },
     "execution_count": 34,
     "metadata": {},
     "output_type": "execute_result"
    }
   ],
   "source": [
    "y.shape"
   ]
  },
  {
   "cell_type": "code",
   "execution_count": 39,
   "metadata": {
    "ExecuteTime": {
     "end_time": "2020-08-14T13:41:50.920809Z",
     "start_time": "2020-08-14T13:41:50.917144Z"
    }
   },
   "outputs": [
    {
     "data": {
      "text/plain": [
       "(45586,)"
      ]
     },
     "execution_count": 39,
     "metadata": {},
     "output_type": "execute_result"
    }
   ],
   "source": [
    "y[y==0].shape"
   ]
  },
  {
   "cell_type": "code",
   "execution_count": null,
   "metadata": {},
   "outputs": [],
   "source": []
  }
 ],
 "metadata": {
  "kernelspec": {
   "display_name": "Python 3",
   "language": "python",
   "name": "python3"
  },
  "language_info": {
   "codemirror_mode": {
    "name": "ipython",
    "version": 3
   },
   "file_extension": ".py",
   "mimetype": "text/x-python",
   "name": "python",
   "nbconvert_exporter": "python",
   "pygments_lexer": "ipython3",
   "version": "3.8.2"
  }
 },
 "nbformat": 4,
 "nbformat_minor": 4
}
