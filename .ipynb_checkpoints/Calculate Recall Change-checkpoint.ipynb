{
 "cells": [
  {
   "cell_type": "code",
   "execution_count": 4,
   "metadata": {
    "ExecuteTime": {
     "end_time": "2020-08-10T10:55:30.807036Z",
     "start_time": "2020-08-10T10:55:30.805064Z"
    }
   },
   "outputs": [],
   "source": [
    "from scipy.stats import percentileofscore\n",
    "import numpy as np"
   ]
  },
  {
   "cell_type": "code",
   "execution_count": 5,
   "metadata": {
    "ExecuteTime": {
     "end_time": "2020-08-10T10:55:31.291999Z",
     "start_time": "2020-08-10T10:55:31.285177Z"
    }
   },
   "outputs": [],
   "source": [
    "def gen_cdf(mean, var, size=10000):\n",
    "    \"\"\"\n",
    "    Inputs:\n",
    "        mean (float): the mean of the gaussian distribution\n",
    "        var (float): the variance of the gaussian distribution    \n",
    "    Return:\n",
    "        (np.ndarray): a sample from the gaussian distribution\n",
    "        \n",
    "    \"\"\"\n",
    "    return np.random.normal(mean, var, size)\n",
    "\n",
    "\n",
    "def get_xi(f0, f1, mu_0, mu_1, fpr=0.8):\n",
    "    \"\"\"\n",
    "    Inputs:\n",
    "        f0, f1 (np.ndarray): samples from gaussian distributions\n",
    "        mu_0, mu_1 (float): the magnitude of the shift for cdf\n",
    "        fpr (float): the predefined false positive rate\n",
    "        \n",
    "    Return:\n",
    "        xi (float): the calculated minus recall change   \n",
    "    \"\"\"\n",
    "    # Set up distribution\n",
    "    f0_ = f0 + mu_0\n",
    "    f1_ = f1 + mu_1\n",
    "\n",
    "    # Get threshold\n",
    "    t_q = np.quantile(f0, fpr)\n",
    "    t_tilde = np.quantile(f0_, fpr)\n",
    "\n",
    "    # Get fnr\n",
    "    q = percentileofscore(f1, t_tilde) / 100\n",
    "    q_star = percentileofscore(f1_, t_tilde) / 100\n",
    "\n",
    "    # Get xi\n",
    "    xi = q - q_star\n",
    "    \n",
    "    return xi\n",
    "\n",
    "\n",
    "def get_xi_approx(f0, f1, mu_0, mu_1, fpr=0.8):\n",
    "    \"\"\"\n",
    "    Inputs:\n",
    "        f0, f1 (np.ndarray): samples from gaussian distributions\n",
    "        mu_0, mu_1 (float): the magnitude of the shift for cdf\n",
    "        fpr (float): the predefined false positive rate\n",
    "        \n",
    "    Return:\n",
    "        xi_approx (float): the calculated minus recall change by algorithm   \n",
    "    \"\"\"\n",
    "    # Set up distribution\n",
    "    f0_ = f0 + mu_0\n",
    "    f1_ = f1 + mu_1\n",
    "\n",
    "    # Get threshold\n",
    "    t_q = np.quantile(f0, fpr)\n",
    "\n",
    "    # Get recall change\n",
    "    xi_approx = (percentileofscore(f1, t_q + mu_0) - percentileofscore(f1, t_q + mu_0 - mu_1)) / 100\n",
    "    \n",
    "    return xi_approx"
   ]
  },
  {
   "cell_type": "code",
   "execution_count": 18,
   "metadata": {
    "ExecuteTime": {
     "end_time": "2020-08-10T10:58:16.939546Z",
     "start_time": "2020-08-10T10:58:16.933865Z"
    }
   },
   "outputs": [
    {
     "name": "stdout",
     "output_type": "stream",
     "text": [
      "xi: 0.049\n",
      "xi_approx: 0.049\n"
     ]
    }
   ],
   "source": [
    "f0 = gen_cdf(0.2, 1)\n",
    "f1 = gen_cdf(0.4, 1.4)\n",
    "\n",
    "mu_0 = 0.1\n",
    "mu_1 = 0.2\n",
    "\n",
    "xi = get_xi(f0, f1, mu_0, mu_1)\n",
    "xi_approx = get_xi_approx(f0, f1, mu_0, mu_1)\n",
    "print(f'xi: {round(xi, 3)}\\nxi_approx: {round(xi_approx, 3)}')"
   ]
  },
  {
   "cell_type": "code",
   "execution_count": 19,
   "metadata": {
    "ExecuteTime": {
     "end_time": "2020-08-10T10:58:32.527203Z",
     "start_time": "2020-08-10T10:58:32.521490Z"
    }
   },
   "outputs": [
    {
     "name": "stdout",
     "output_type": "stream",
     "text": [
      "xi: 0.021\n",
      "xi_approx: 0.021\n"
     ]
    }
   ],
   "source": [
    "f0 = gen_cdf(0.2, 1)\n",
    "f1 = gen_cdf(0.4, 1.4)\n",
    "\n",
    "mu_0 = 0.1\n",
    "mu_1 = 0.1\n",
    "\n",
    "xi = get_xi(f0, f1, mu_0, mu_1)\n",
    "xi_approx = get_xi_approx(f0, f1, mu_0, mu_1)\n",
    "print(f'xi: {round(xi, 3)}\\nxi_approx: {round(xi_approx, 3)}')"
   ]
  },
  {
   "cell_type": "code",
   "execution_count": 21,
   "metadata": {
    "ExecuteTime": {
     "end_time": "2020-08-10T10:59:29.941927Z",
     "start_time": "2020-08-10T10:59:29.936021Z"
    }
   },
   "outputs": [
    {
     "name": "stdout",
     "output_type": "stream",
     "text": [
      "xi: 0.0\n",
      "xi_approx: 0.0\n",
      "xi will be 0 when mu_1 = 0!\n"
     ]
    }
   ],
   "source": [
    "f0 = gen_cdf(0.2, 1)\n",
    "f1 = gen_cdf(0.4, 1.4)\n",
    "\n",
    "mu_0 = 0.1\n",
    "mu_1 = 0\n",
    "\n",
    "xi = get_xi(f0, f1, mu_0, mu_1)\n",
    "xi_approx = get_xi_approx(f0, f1, mu_0, mu_1)\n",
    "print(f'xi: {round(xi, 3)}\\nxi_approx: {round(xi_approx, 3)}')\n",
    "print('xi will be 0 when mu_1 = 0!')"
   ]
  }
 ],
 "metadata": {
  "kernelspec": {
   "display_name": "Python 3",
   "language": "python",
   "name": "python3"
  },
  "language_info": {
   "codemirror_mode": {
    "name": "ipython",
    "version": 3
   },
   "file_extension": ".py",
   "mimetype": "text/x-python",
   "name": "python",
   "nbconvert_exporter": "python",
   "pygments_lexer": "ipython3",
   "version": "3.8.2"
  }
 },
 "nbformat": 4,
 "nbformat_minor": 4
}
