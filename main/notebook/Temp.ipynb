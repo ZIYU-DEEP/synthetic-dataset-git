{
 "cells": [
  {
   "cell_type": "code",
   "execution_count": 2,
   "metadata": {},
   "outputs": [],
   "source": [
    "import pandas as pd\n",
    "import numpy as np\n",
    "from pathlib import Path"
   ]
  },
  {
   "cell_type": "code",
   "execution_count": 3,
   "metadata": {},
   "outputs": [],
   "source": [
    "root = Path('~/synthetic-dataset-git/main/report')"
   ]
  },
  {
   "cell_type": "code",
   "execution_count": 4,
   "metadata": {},
   "outputs": [],
   "source": [
    "oc_d0i = pd.read_pickle(root / 'one_class' / 'one_class_[1_-1_1]_[1_1_1]_[0.1]' / 'df_d0i.pkl')\n",
    "oc_d1i = pd.read_pickle(root / 'one_class' / 'one_class_[1_-1_1]_[1_1_1]_[0.1]' / 'df_d1i.pkl')\n",
    "rec_d0i = pd.read_pickle(root / 'rec' / 'rec_[1_-1_1]_[1_1_1]_[0.1]' / 'df_d0i.pkl')\n",
    "rec_d1i = pd.read_pickle(root / 'rec' / 'rec_[1_-1_1]_[1_1_1]_[0.1]' / 'df_d1i.pkl')"
   ]
  },
  {
   "cell_type": "code",
   "execution_count": 13,
   "metadata": {},
   "outputs": [
    {
     "data": {
      "text/plain": [
       "array([0.        , 0.00166667, 0.005     , 0.01166667, 0.01333333,\n",
       "       0.01833333, 0.05166667, 0.05333333, 0.06666667, 0.08333333,\n",
       "       0.105     , 0.11666667, 0.18166667, 0.19      , 0.25333333,\n",
       "       0.32      , 0.365     , 0.515     , 0.54833333, 0.59      ,\n",
       "       0.7       , 0.72      , 0.74666667, 0.76333333, 0.76666667,\n",
       "       0.83833333, 0.84166667, 0.84333333, 0.87      , 0.90666667,\n",
       "       0.90833333, 0.925     , 0.95166667, 0.95833333, 0.96666667,\n",
       "       0.96833333, 0.97166667, 0.97833333, 0.98      , 0.98333333,\n",
       "       0.99166667, 0.99333333, 0.995     , 0.99666667, 0.99833333,\n",
       "       1.        ])"
      ]
     },
     "execution_count": 13,
     "metadata": {},
     "output_type": "execute_result"
    }
   ],
   "source": [
    "oc_d0i.sort_values('recall')['recall'].unique()"
   ]
  },
  {
   "cell_type": "code",
   "execution_count": null,
   "metadata": {},
   "outputs": [],
   "source": []
  }
 ],
 "metadata": {
  "kernelspec": {
   "display_name": "Python 3",
   "language": "python",
   "name": "python3"
  },
  "language_info": {
   "codemirror_mode": {
    "name": "ipython",
    "version": 3
   },
   "file_extension": ".py",
   "mimetype": "text/x-python",
   "name": "python",
   "nbconvert_exporter": "python",
   "pygments_lexer": "ipython3",
   "version": "3.6.9"
  }
 },
 "nbformat": 4,
 "nbformat_minor": 2
}
