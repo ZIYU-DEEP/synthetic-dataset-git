{
 "cells": [
  {
   "cell_type": "markdown",
   "metadata": {},
   "source": [
    "# 1. Generate Network"
   ]
  },
  {
   "cell_type": "code",
   "execution_count": 1,
   "metadata": {
    "ExecuteTime": {
     "end_time": "2020-07-15T16:50:27.423105Z",
     "start_time": "2020-07-15T16:50:27.168889Z"
    }
   },
   "outputs": [],
   "source": [
    "import torch\n",
    "import torch.nn as nn\n",
    "import torch.nn.functional as F"
   ]
  },
  {
   "cell_type": "code",
   "execution_count": 2,
   "metadata": {
    "ExecuteTime": {
     "end_time": "2020-07-15T16:50:27.526101Z",
     "start_time": "2020-07-15T16:50:27.519998Z"
    }
   },
   "outputs": [],
   "source": [
    "import logging\n",
    "import numpy as np\n",
    "import torch.nn as nn\n",
    "\n",
    "\n",
    "# #########################################################################\n",
    "# 1. Base Net\n",
    "# #########################################################################\n",
    "class BaseNet(nn.Module):\n",
    "    \"\"\"\n",
    "    Base class for all neural networks.\n",
    "    \"\"\"\n",
    "\n",
    "    def __init__(self):\n",
    "        super().__init__()\n",
    "        self.logger = logging.getLogger(self.__class__.__name__)\n",
    "        self.rep_dim = None\n",
    "\n",
    "    def forward(self, *input):\n",
    "        raise NotImplementedError\n",
    "\n",
    "    def summary(self):\n",
    "        net_parameters = filter(lambda p: p.requires_grad, self.parameters())\n",
    "        params = sum([np.prod(p.size()) for p in net_parameters])\n",
    "        self.logger.info('Trainable parameters: {}'.format(params))\n",
    "        self.logger.info(self)\n"
   ]
  },
  {
   "cell_type": "code",
   "execution_count": 3,
   "metadata": {
    "ExecuteTime": {
     "end_time": "2020-07-15T16:50:28.006400Z",
     "start_time": "2020-07-15T16:50:28.001569Z"
    }
   },
   "outputs": [],
   "source": [
    "# #########################################################################\n",
    "# 1. Encoder\n",
    "# #########################################################################\n",
    "class Guassian3DNet(BaseNet):\n",
    "    def __init__(self, rep_dim=2):\n",
    "        super().__init__()\n",
    "\n",
    "        self.rep_dim = rep_dim\n",
    "        self.fc1 = nn.Linear(3, 2, bias=True)\n",
    "        self.fc2 = nn.Linear(2, self.rep_dim, bias=True)\n",
    "\n",
    "    def forward(self, x):\n",
    "        x = self.fc1(x)\n",
    "        x = F.leaky_relu(x)\n",
    "        x = self.fc2(x)\n",
    "        return x"
   ]
  },
  {
   "cell_type": "code",
   "execution_count": 4,
   "metadata": {
    "ExecuteTime": {
     "end_time": "2020-07-15T16:50:28.441969Z",
     "start_time": "2020-07-15T16:50:28.437734Z"
    }
   },
   "outputs": [],
   "source": [
    "# #########################################################################\n",
    "# 2. Decoder\n",
    "# #########################################################################\n",
    "class Guassian3DNetDecoder(BaseNet):\n",
    "    def __init__(self, rep_dim=2):\n",
    "        super().__init__()\n",
    "\n",
    "        self.rep_dim = rep_dim\n",
    "        self.fc1 = nn.Linear(self.rep_dim, 2, bias=True)\n",
    "        self.fc2 = nn.Linear(2, 3, bias=True)\n",
    "        \n",
    "    def forward(self, x):\n",
    "        x = self.fc1(x)\n",
    "        x = F.leaky_relu(x)\n",
    "        x = self.fc2(x)\n",
    "        return x"
   ]
  },
  {
   "cell_type": "code",
   "execution_count": 5,
   "metadata": {
    "ExecuteTime": {
     "end_time": "2020-07-15T16:50:28.892020Z",
     "start_time": "2020-07-15T16:50:28.888204Z"
    }
   },
   "outputs": [],
   "source": [
    "# #########################################################################\n",
    "# 3. Autoencoder\n",
    "# #########################################################################\n",
    "class Gaussian3DNetAutoencoder(BaseNet):\n",
    "    def __init__(self, rep_dim=2):\n",
    "        super().__init__()\n",
    "\n",
    "        self.rep_dim = rep_dim\n",
    "        self.encoder = Guassian3DNet(rep_dim=rep_dim)\n",
    "        self.decoder = Guassian3DNetDecoder(rep_dim=rep_dim)\n",
    "\n",
    "    def forward(self, x):\n",
    "        x = self.encoder(x)\n",
    "        x = self.decoder(x)\n",
    "        return x"
   ]
  },
  {
   "cell_type": "code",
   "execution_count": 6,
   "metadata": {
    "ExecuteTime": {
     "end_time": "2020-07-15T16:50:29.396409Z",
     "start_time": "2020-07-15T16:50:29.393004Z"
    }
   },
   "outputs": [],
   "source": [
    "net = Gaussian3DNetAutoencoder()"
   ]
  },
  {
   "cell_type": "markdown",
   "metadata": {},
   "source": [
    "# 2. Generate Datasete"
   ]
  },
  {
   "cell_type": "code",
   "execution_count": 7,
   "metadata": {
    "ExecuteTime": {
     "end_time": "2020-07-15T16:50:30.776990Z",
     "start_time": "2020-07-15T16:50:30.517623Z"
    }
   },
   "outputs": [],
   "source": [
    "import numpy as np\n",
    "from sklearn.preprocessing import MinMaxScaler"
   ]
  },
  {
   "cell_type": "code",
   "execution_count": 8,
   "metadata": {
    "ExecuteTime": {
     "end_time": "2020-07-15T16:50:30.919201Z",
     "start_time": "2020-07-15T16:50:30.916510Z"
    }
   },
   "outputs": [],
   "source": [
    "cov = [[0.1, 0, 0], \n",
    "       [0, 0.1, 0], \n",
    "       [0, 0, 0.1]]\n",
    "\n",
    "mu_0 = [1, 1, 1]\n",
    "mu_1 = [1, - 1, 1]"
   ]
  },
  {
   "cell_type": "code",
   "execution_count": 9,
   "metadata": {
    "ExecuteTime": {
     "end_time": "2020-07-15T16:50:31.334242Z",
     "start_time": "2020-07-15T16:50:31.330764Z"
    }
   },
   "outputs": [],
   "source": [
    "X = np.random.multivariate_normal(mu, cov, 5000)"
   ]
  },
  {
   "cell_type": "code",
   "execution_count": 10,
   "metadata": {
    "ExecuteTime": {
     "end_time": "2020-07-15T16:50:31.834942Z",
     "start_time": "2020-07-15T16:50:31.832006Z"
    }
   },
   "outputs": [],
   "source": [
    "scaler = MinMaxScaler()\n",
    "scaler.fit(X)\n",
    "X = scaler.transform(X)"
   ]
  },
  {
   "cell_type": "code",
   "execution_count": 12,
   "metadata": {
    "ExecuteTime": {
     "end_time": "2020-07-15T16:50:38.306893Z",
     "start_time": "2020-07-15T16:50:38.302479Z"
    }
   },
   "outputs": [],
   "source": [
    "X_ = net(torch.tensor(X, dtype=torch.float32))"
   ]
  },
  {
   "cell_type": "code",
   "execution_count": 13,
   "metadata": {
    "ExecuteTime": {
     "end_time": "2020-07-15T16:50:40.772402Z",
     "start_time": "2020-07-15T16:50:40.763100Z"
    }
   },
   "outputs": [
    {
     "data": {
      "text/plain": [
       "tensor([[-0.5826,  0.3281,  0.7432],\n",
       "        [-0.6004,  0.3367,  0.7540],\n",
       "        [-0.6057,  0.3393,  0.7573],\n",
       "        ...,\n",
       "        [-0.6017,  0.3373,  0.7548],\n",
       "        [-0.6111,  0.3419,  0.7606],\n",
       "        [-0.5721,  0.3230,  0.7368]], grad_fn=<AddmmBackward>)"
      ]
     },
     "execution_count": 13,
     "metadata": {},
     "output_type": "execute_result"
    }
   ],
   "source": [
    "X_"
   ]
  }
 ],
 "metadata": {
  "kernelspec": {
   "display_name": "Python 3",
   "language": "python",
   "name": "python3"
  },
  "language_info": {
   "codemirror_mode": {
    "name": "ipython",
    "version": 3
   },
   "file_extension": ".py",
   "mimetype": "text/x-python",
   "name": "python",
   "nbconvert_exporter": "python",
   "pygments_lexer": "ipython3",
   "version": "3.8.2"
  }
 },
 "nbformat": 4,
 "nbformat_minor": 4
}
